{
  "nbformat": 4,
  "nbformat_minor": 0,
  "metadata": {
    "colab": {
      "name": "ebay.ipynb",
      "provenance": []
    },
    "kernelspec": {
      "name": "python3",
      "display_name": "Python 3"
    },
    "language_info": {
      "name": "python"
    },
    "accelerator": "GPU"
  },
  "cells": [
    {
      "cell_type": "code",
      "metadata": {
        "colab": {
          "base_uri": "https://localhost:8080/"
        },
        "id": "ZciFtwdTRIdQ",
        "outputId": "98b283dc-f779-4c29-9a95-52f9b78a2a57"
      },
      "source": [
        "from google.colab import drive\n",
        "drive.mount('/content/drive')"
      ],
      "execution_count": 1,
      "outputs": [
        {
          "output_type": "stream",
          "name": "stdout",
          "text": [
            "Drive already mounted at /content/drive; to attempt to forcibly remount, call drive.mount(\"/content/drive\", force_remount=True).\n"
          ]
        }
      ]
    },
    {
      "cell_type": "code",
      "metadata": {
        "id": "HpqzgGZyN85W"
      },
      "source": [
        "import pandas as pd\n",
        "df_test = pd.read_csv(\n",
        "    \"/content/drive/MyDrive/eBay_ML_Challenge_Dataset_2021_train.tsv\", \n",
        "    sep='\\t', \n",
        "    header=0,\n",
        "    nrows=1000)\n",
        "df_quiz = pd.read_csv(\n",
        "    \"/content/drive/MyDrive/eBay_ML_Challenge_Dataset_2021_quiz.tsv\",  \n",
        "    sep='\\t', \n",
        "    header=0,\n",
        "    nrows=1000)\n",
        "\n",
        "#Standardize all payment times to EST (or common time zone)\n",
        "\n",
        "# Payment time - Delivery time = delivary dates "
      ],
      "execution_count": 35,
      "outputs": []
    },
    {
      "cell_type": "markdown",
      "metadata": {
        "id": "yTE6a77TQroq"
      },
      "source": [
        ""
      ]
    },
    {
      "cell_type": "code",
      "metadata": {
        "colab": {
          "base_uri": "https://localhost:8080/",
          "height": 309
        },
        "id": "0iI6z3VvR2kk",
        "outputId": "8a74b4bb-fc8b-45c6-cc2f-0128cb8887f0"
      },
      "source": [
        "df_test[0:5]"
      ],
      "execution_count": 36,
      "outputs": [
        {
          "output_type": "execute_result",
          "data": {
            "text/html": [
              "<div>\n",
              "<style scoped>\n",
              "    .dataframe tbody tr th:only-of-type {\n",
              "        vertical-align: middle;\n",
              "    }\n",
              "\n",
              "    .dataframe tbody tr th {\n",
              "        vertical-align: top;\n",
              "    }\n",
              "\n",
              "    .dataframe thead th {\n",
              "        text-align: right;\n",
              "    }\n",
              "</style>\n",
              "<table border=\"1\" class=\"dataframe\">\n",
              "  <thead>\n",
              "    <tr style=\"text-align: right;\">\n",
              "      <th></th>\n",
              "      <th>b2c_c2c</th>\n",
              "      <th>seller_id</th>\n",
              "      <th>declared_handling_days</th>\n",
              "      <th>acceptance_scan_timestamp</th>\n",
              "      <th>shipment_method_id</th>\n",
              "      <th>shipping_fee</th>\n",
              "      <th>carrier_min_estimate</th>\n",
              "      <th>carrier_max_estimate</th>\n",
              "      <th>item_zip</th>\n",
              "      <th>buyer_zip</th>\n",
              "      <th>category_id</th>\n",
              "      <th>item_price</th>\n",
              "      <th>quantity</th>\n",
              "      <th>payment_datetime</th>\n",
              "      <th>delivery_date</th>\n",
              "      <th>weight</th>\n",
              "      <th>weight_units</th>\n",
              "      <th>package_size</th>\n",
              "      <th>record_number</th>\n",
              "    </tr>\n",
              "  </thead>\n",
              "  <tbody>\n",
              "    <tr>\n",
              "      <th>0</th>\n",
              "      <td>B2C</td>\n",
              "      <td>25454</td>\n",
              "      <td>3.0</td>\n",
              "      <td>2019-03-26 15:11:00.000-07:00</td>\n",
              "      <td>0</td>\n",
              "      <td>0.0</td>\n",
              "      <td>3</td>\n",
              "      <td>5</td>\n",
              "      <td>97219</td>\n",
              "      <td>49040</td>\n",
              "      <td>13</td>\n",
              "      <td>27.95</td>\n",
              "      <td>1</td>\n",
              "      <td>2019-03-24 03:56:49.000-07:00</td>\n",
              "      <td>2019-03-29</td>\n",
              "      <td>5</td>\n",
              "      <td>1</td>\n",
              "      <td>LETTER</td>\n",
              "      <td>1</td>\n",
              "    </tr>\n",
              "    <tr>\n",
              "      <th>1</th>\n",
              "      <td>C2C</td>\n",
              "      <td>6727381</td>\n",
              "      <td>2.0</td>\n",
              "      <td>2018-06-02 12:53:00.000-07:00</td>\n",
              "      <td>0</td>\n",
              "      <td>3.0</td>\n",
              "      <td>3</td>\n",
              "      <td>5</td>\n",
              "      <td>11415-3528</td>\n",
              "      <td>62521</td>\n",
              "      <td>0</td>\n",
              "      <td>20.50</td>\n",
              "      <td>1</td>\n",
              "      <td>2018-06-01 13:43:54.000-07:00</td>\n",
              "      <td>2018-06-05</td>\n",
              "      <td>0</td>\n",
              "      <td>1</td>\n",
              "      <td>PACKAGE_THICK_ENVELOPE</td>\n",
              "      <td>2</td>\n",
              "    </tr>\n",
              "    <tr>\n",
              "      <th>2</th>\n",
              "      <td>B2C</td>\n",
              "      <td>18507</td>\n",
              "      <td>1.0</td>\n",
              "      <td>2019-01-07 16:22:00.000-05:00</td>\n",
              "      <td>0</td>\n",
              "      <td>4.5</td>\n",
              "      <td>3</td>\n",
              "      <td>5</td>\n",
              "      <td>27292</td>\n",
              "      <td>53010</td>\n",
              "      <td>1</td>\n",
              "      <td>19.90</td>\n",
              "      <td>1</td>\n",
              "      <td>2019-01-06 00:02:00.000-05:00</td>\n",
              "      <td>2019-01-10</td>\n",
              "      <td>9</td>\n",
              "      <td>1</td>\n",
              "      <td>PACKAGE_THICK_ENVELOPE</td>\n",
              "      <td>3</td>\n",
              "    </tr>\n",
              "    <tr>\n",
              "      <th>3</th>\n",
              "      <td>B2C</td>\n",
              "      <td>4677</td>\n",
              "      <td>1.0</td>\n",
              "      <td>2018-12-17 16:56:00.000-08:00</td>\n",
              "      <td>0</td>\n",
              "      <td>0.0</td>\n",
              "      <td>3</td>\n",
              "      <td>5</td>\n",
              "      <td>90703</td>\n",
              "      <td>80022</td>\n",
              "      <td>1</td>\n",
              "      <td>35.50</td>\n",
              "      <td>1</td>\n",
              "      <td>2018-12-16 10:28:28.000-08:00</td>\n",
              "      <td>2018-12-21</td>\n",
              "      <td>8</td>\n",
              "      <td>1</td>\n",
              "      <td>PACKAGE_THICK_ENVELOPE</td>\n",
              "      <td>4</td>\n",
              "    </tr>\n",
              "    <tr>\n",
              "      <th>4</th>\n",
              "      <td>B2C</td>\n",
              "      <td>4677</td>\n",
              "      <td>1.0</td>\n",
              "      <td>2018-07-27 16:48:00.000-07:00</td>\n",
              "      <td>0</td>\n",
              "      <td>0.0</td>\n",
              "      <td>3</td>\n",
              "      <td>5</td>\n",
              "      <td>90703</td>\n",
              "      <td>55070</td>\n",
              "      <td>1</td>\n",
              "      <td>25.00</td>\n",
              "      <td>1</td>\n",
              "      <td>2018-07-26 18:20:02.000-07:00</td>\n",
              "      <td>2018-07-30</td>\n",
              "      <td>3</td>\n",
              "      <td>1</td>\n",
              "      <td>PACKAGE_THICK_ENVELOPE</td>\n",
              "      <td>5</td>\n",
              "    </tr>\n",
              "  </tbody>\n",
              "</table>\n",
              "</div>"
            ],
            "text/plain": [
              "  b2c_c2c  seller_id  ...            package_size record_number\n",
              "0     B2C      25454  ...                  LETTER             1\n",
              "1     C2C    6727381  ...  PACKAGE_THICK_ENVELOPE             2\n",
              "2     B2C      18507  ...  PACKAGE_THICK_ENVELOPE             3\n",
              "3     B2C       4677  ...  PACKAGE_THICK_ENVELOPE             4\n",
              "4     B2C       4677  ...  PACKAGE_THICK_ENVELOPE             5\n",
              "\n",
              "[5 rows x 19 columns]"
            ]
          },
          "metadata": {},
          "execution_count": 36
        }
      ]
    },
    {
      "cell_type": "code",
      "metadata": {
        "id": "Q4ehF7E_QJ_x",
        "colab": {
          "base_uri": "https://localhost:8080/",
          "height": 204
        },
        "outputId": "fe3b4b76-48b3-4c57-9415-921e5dd5d6c6"
      },
      "source": [
        "from datetime import datetime\n",
        "\n",
        "df1 = pd.DataFrame(df_test,columns=[\n",
        "  \"declared_handling_days\",\"carrier_min_estimate\",\"payment_datetime\", \"delivery_date\"\n",
        "  ])\n",
        "\n",
        "df_test[\"payment_datetime\"] = pd.to_datetime(df_test[\"payment_datetime\"], utc=True).dt.date\n",
        "df_test[\"delivery_date\"] = pd.to_datetime(df_test[\"delivery_date\"]).dt.date\n",
        "\n",
        "df_test_clean = pd.DataFrame()\n",
        "df_test_clean[\"estimate\"] = df_test[\"declared_handling_days\"] + df_test[\"carrier_min_estimate\"]\n",
        "df_test_clean[\"result\"] = df_test[\"delivery_date\"] - df_test[\"payment_datetime\"]\n",
        "df_test_clean[\"result\"] = (df_test_clean[\"result\"]).dt.days\n",
        "\n",
        "df_test_clean[0:5]"
      ],
      "execution_count": 76,
      "outputs": [
        {
          "output_type": "execute_result",
          "data": {
            "text/html": [
              "<div>\n",
              "<style scoped>\n",
              "    .dataframe tbody tr th:only-of-type {\n",
              "        vertical-align: middle;\n",
              "    }\n",
              "\n",
              "    .dataframe tbody tr th {\n",
              "        vertical-align: top;\n",
              "    }\n",
              "\n",
              "    .dataframe thead th {\n",
              "        text-align: right;\n",
              "    }\n",
              "</style>\n",
              "<table border=\"1\" class=\"dataframe\">\n",
              "  <thead>\n",
              "    <tr style=\"text-align: right;\">\n",
              "      <th></th>\n",
              "      <th>estimate</th>\n",
              "      <th>result</th>\n",
              "    </tr>\n",
              "  </thead>\n",
              "  <tbody>\n",
              "    <tr>\n",
              "      <th>0</th>\n",
              "      <td>6.0</td>\n",
              "      <td>5</td>\n",
              "    </tr>\n",
              "    <tr>\n",
              "      <th>1</th>\n",
              "      <td>5.0</td>\n",
              "      <td>4</td>\n",
              "    </tr>\n",
              "    <tr>\n",
              "      <th>2</th>\n",
              "      <td>4.0</td>\n",
              "      <td>4</td>\n",
              "    </tr>\n",
              "    <tr>\n",
              "      <th>3</th>\n",
              "      <td>4.0</td>\n",
              "      <td>5</td>\n",
              "    </tr>\n",
              "    <tr>\n",
              "      <th>4</th>\n",
              "      <td>4.0</td>\n",
              "      <td>3</td>\n",
              "    </tr>\n",
              "  </tbody>\n",
              "</table>\n",
              "</div>"
            ],
            "text/plain": [
              "   estimate  result\n",
              "0       6.0       5\n",
              "1       5.0       4\n",
              "2       4.0       4\n",
              "3       4.0       5\n",
              "4       4.0       3"
            ]
          },
          "metadata": {},
          "execution_count": 76
        }
      ]
    },
    {
      "cell_type": "code",
      "metadata": {
        "id": "8tEcNSIhWuC8"
      },
      "source": [
        "import nltk\n",
        "from sklearn.feature_extraction.text import CountVectorizer\n",
        "from nltk.tokenize import RegexpTokenizer\n",
        "from sklearn.model_selection import train_test_split\n",
        "from sklearn.feature_extraction.text import TfidfTransformer\n",
        "from sklearn.metrics import classification_report\n",
        "from nltk import sent_tokenize\n",
        "from tqdm import tqdm\n",
        "from scipy import sparse\n",
        "import pickle\n",
        "from sklearn.naive_bayes import (\n",
        "    BernoulliNB,\n",
        "    ComplementNB,\n",
        "    MultinomialNB,\n",
        ")\n",
        "from sklearn.neighbors import KNeighborsClassifier\n",
        "from sklearn.tree import DecisionTreeClassifier\n",
        "from sklearn.ensemble import RandomForestClassifier, AdaBoostClassifier\n",
        "from sklearn.linear_model import (\n",
        "    LogisticRegression,\n",
        "    SGDClassifier,\n",
        ")\n",
        "from sklearn.neural_network import MLPClassifier"
      ],
      "execution_count": 12,
      "outputs": []
    },
    {
      "cell_type": "code",
      "metadata": {
        "id": "JpeTism9W61G"
      },
      "source": [
        "classifiers = [(\"BernoulliNB\", BernoulliNB()),\n",
        "        (\"ComplementNB\", ComplementNB()),\n",
        "        (\"MultinomialNB\", MultinomialNB(        )),\n",
        "        (\"KNeighborsClassifier\", KNeighborsClassifier()),\n",
        "        (\"DecisionTreeClassifier\", DecisionTreeClassifier()),\n",
        "        (\"RandomForestClassifier\", RandomForestClassifier()),\n",
        "        (\"LogisticRegression\", LogisticRegression(max_iter=1000)),\n",
        "        (\"SGDClassifier\", SGDClassifier()),\n",
        "        (\"AdaBoostClassifier\", AdaBoostClassifier()),\n",
        "        (\"MLPClassifier\", MLPClassifier(max_iter=1000)),\n",
        "]\n",
        "\n"
      ],
      "execution_count": 16,
      "outputs": []
    }
  ]
}